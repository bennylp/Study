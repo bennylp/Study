{
 "cells": [
  {
   "cell_type": "markdown",
   "metadata": {},
   "source": [
    "# Unit Root Intuition\n",
    "\n",
    "Say you have a time series:\n",
    "\n",
    "$y_t = a  y_{t-1} + \\epsilon_t$\n",
    "\n",
    "Then you know that:\n",
    "\n",
    "$y_{t-1} = a y_{t-2} + \\epsilon_{t-1}$\n",
    "\n",
    "So you can substitute that into the first expression:\n",
    "\n",
    "$y_t = a (a y_{t-2} + \\epsilon_{t-1}) + \\epsilon_t = (a^2) y_{t-2} + (a^1) \\epsilon_{t-1} + (a^0) \\epsilon_t $\n",
    "\n",
    "Keep doing this and you get\n",
    "\n",
    "$y_t = a^n y_{t-n} + \\sum_{i=0}^{n-1}(\\epsilon_{t-i} * a^i) $\n",
    "\n",
    "Without going into the math, from that last expression, you can see that if $a = 1$, the first term is going to be $y_{t-n}$, and the second term is going to be the sum of every single error term from time $t-n$ to time $t$. The variance is going to be $n * \\mathbb{E}(\\epsilon_t)^2$. In other words, your variance is going to increase linearly with the number of periods you look back, and will be infinite in the limit.\n",
    "\n",
    "This makes it impossible to perform regression because you have serious *heteroskedacticity* problems. Therefore, you need to modify the data so that you can perform regression. Time series with unit roots are difference stationary, because you can perform regression on the differenced time series (check out the ARIMA models).\n",
    "\n",
    "If $a < 1$, then these terms will quickly go to 0. It's only solvable if $a < 1$, so the unit root test tests whether $a = 1$.\n",
    "\n",
    "Also, if there is a constant term in the AR(1) model, then you have:\n",
    "\n",
    "$y_t = c + a * y_{t-1} + \\epsilon_t $\n",
    "\n",
    "The expected value of this is:\n",
    "\n",
    "$\\mathbb{E}(y_t) = \\mathbb{E}(c) + \\mathbb{E}(a y_{t-1}) + \\mathbb{E}(\\epsilon_t) $\n",
    "\n",
    "$\\mu = c + a \\mu + 0 $\n",
    "\n",
    "$\\mu = \\frac{c}{(1 - a)}$\n",
    "\n",
    "(note that $\\mathbb{E}(y_t) = \\mathbb{E}(y_{t-1})$\n",
    "\n",
    "Clearly, if $a = 1$, then expectation of this function is undefined.\n",
    "\n",
    "[Source: [Reddit](https://www.reddit.com/r/CFA/comments/5z66e5/explain_to_me_like_im_5_what_is_a_unit_root_and/devncnr)]"
   ]
  },
  {
   "cell_type": "markdown",
   "metadata": {
    "collapsed": true
   },
   "source": [
    "## Relation with Random Walk\n",
    "\n",
    "Given a process:\n",
    "\n",
    "$y_t = a_0 + a_1 y_{t-1} + \\epsilon_t$\n",
    "\n",
    "- if $a_1 = 1$, the process has unit root\n",
    "- if $a_1 = 1$ and $a_0 = 0$, the process is a random walk\n",
    "- if $a_1 = 1$ and $a_0 \\neq 0$, the process is a random walk with drift"
   ]
  },
  {
   "cell_type": "code",
   "execution_count": null,
   "metadata": {
    "collapsed": true
   },
   "outputs": [],
   "source": []
  }
 ],
 "metadata": {
  "anaconda-cloud": {},
  "kernelspec": {
   "display_name": "Python 3",
   "language": "python",
   "name": "python [root]"
  },
  "language_info": {
   "codemirror_mode": {
    "name": "ipython",
    "version": 3
   },
   "file_extension": ".py",
   "mimetype": "text/x-python",
   "name": "python",
   "nbconvert_exporter": "python",
   "pygments_lexer": "ipython3",
   "version": "3.5.3"
  }
 },
 "nbformat": 4,
 "nbformat_minor": 0
}
